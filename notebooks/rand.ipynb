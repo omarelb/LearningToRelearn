{
 "cells": [
  {
   "cell_type": "code",
   "execution_count": 2,
   "metadata": {},
   "outputs": [
    {
     "name": "stdout",
     "output_type": "stream",
     "text": [
      "The autoreload extension is already loaded. To reload it, use:\n",
      "  %reload_ext autoreload\n"
     ]
    }
   ],
   "source": [
    "import sys\n",
    "sys.path.append(\"..\")\n",
    "import os\n",
    "from pathlib import Path\n",
    "from MetaLifeLongLanguage.datasets.text_classification_dataset import AGNewsDataset, get_dataset, get_datasets\n",
    "import hydra\n",
    "from hydra.experimental import compose, initialize\n",
    "from omegaconf import OmegaConf\n",
    "%load_ext autoreload\n",
    "%autoreload 2\n",
    "\n",
    "\n",
    "\n",
    "from train_text_cls import get_learner\n",
    "\n",
    "from omegaconf import DictConfig"
   ]
  },
  {
   "cell_type": "code",
   "execution_count": 50,
   "metadata": {},
   "outputs": [],
   "source": [
    "from MetaLifeLongLanguage.models.cls_agem import AGEM"
   ]
  },
  {
   "cell_type": "code",
   "execution_count": 1,
   "metadata": {},
   "outputs": [],
   "source": [
    "results = {\n",
    "    \"AGNews\": {\n",
    "        \"acc\": 0.8,\n",
    "        \"f1\": 0.5\n",
    "    },\n",
    "    \"DBPedia\": {\n",
    "        \"acc\": 0.9,\n",
    "        \"f1\": 0.6\n",
    "    }\n",
    "}"
   ]
  },
  {
   "cell_type": "code",
   "execution_count": 15,
   "metadata": {},
   "outputs": [],
   "source": [
    "r = pd.DataFrame.from_dict(results, orient=\"index\")"
   ]
  },
  {
   "cell_type": "code",
   "execution_count": 16,
   "metadata": {},
   "outputs": [
    {
     "data": {
      "text/html": [
       "<div>\n",
       "<style scoped>\n",
       "    .dataframe tbody tr th:only-of-type {\n",
       "        vertical-align: middle;\n",
       "    }\n",
       "\n",
       "    .dataframe tbody tr th {\n",
       "        vertical-align: top;\n",
       "    }\n",
       "\n",
       "    .dataframe thead th {\n",
       "        text-align: right;\n",
       "    }\n",
       "</style>\n",
       "<table border=\"1\" class=\"dataframe\">\n",
       "  <thead>\n",
       "    <tr style=\"text-align: right;\">\n",
       "      <th></th>\n",
       "      <th>AGNews</th>\n",
       "      <th>DBPedia</th>\n",
       "    </tr>\n",
       "  </thead>\n",
       "  <tbody>\n",
       "    <tr>\n",
       "      <th>acc</th>\n",
       "      <td>0.8</td>\n",
       "      <td>0.9</td>\n",
       "    </tr>\n",
       "    <tr>\n",
       "      <th>f1</th>\n",
       "      <td>0.5</td>\n",
       "      <td>0.6</td>\n",
       "    </tr>\n",
       "  </tbody>\n",
       "</table>\n",
       "</div>"
      ],
      "text/plain": [
       "     AGNews  DBPedia\n",
       "acc     0.8      0.9\n",
       "f1      0.5      0.6"
      ]
     },
     "execution_count": 16,
     "metadata": {},
     "output_type": "execute_result"
    }
   ],
   "source": [
    "r"
   ]
  },
  {
   "cell_type": "code",
   "execution_count": 14,
   "metadata": {},
   "outputs": [],
   "source": [
    "r.to_csv(\"test.csv\")"
   ]
  },
  {
   "cell_type": "code",
   "execution_count": 9,
   "metadata": {},
   "outputs": [],
   "source": [
    "r[\"mean\"] = r.mean()"
   ]
  },
  {
   "cell_type": "code",
   "execution_count": 3,
   "metadata": {},
   "outputs": [
    {
     "data": {
      "text/plain": [
       "'/home/omarelb/projects/thesis/code/notebooks'"
      ]
     },
     "execution_count": 3,
     "metadata": {},
     "output_type": "execute_result"
    }
   ],
   "source": [
    "os.getcwd()"
   ]
  },
  {
   "cell_type": "code",
   "execution_count": 36,
   "metadata": {},
   "outputs": [],
   "source": [
    "def f(seed, version, **kwargs):\n",
    "    other_fn(kwargs)\n",
    "    print(seed, version)"
   ]
  },
  {
   "cell_type": "code",
   "execution_count": 48,
   "metadata": {},
   "outputs": [],
   "source": [
    "def other_fn(kwargs):\n",
    "    print(DictConfig(kwargs).inference)\n",
    "#     print(kwargs.inference)"
   ]
  },
  {
   "cell_type": "code",
   "execution_count": 49,
   "metadata": {},
   "outputs": [
    {
     "name": "stdout",
     "output_type": "stream",
     "text": [
      "False\n",
      "42 0\n"
     ]
    }
   ],
   "source": [
    "f(**config)"
   ]
  },
  {
   "cell_type": "code",
   "execution_count": 54,
   "metadata": {},
   "outputs": [
    {
     "name": "stderr",
     "output_type": "stream",
     "text": [
      "[autoreload of MetaLifeLongLanguage.models.cls_agem failed: Traceback (most recent call last):\n",
      "  File \"/home/omarelb/projects/thesis/code/venv/lib/python3.7/site-packages/IPython/extensions/autoreload.py\", line 245, in check\n",
      "    superreload(m, reload, self.old_objects)\n",
      "  File \"/home/omarelb/projects/thesis/code/venv/lib/python3.7/site-packages/IPython/extensions/autoreload.py\", line 410, in superreload\n",
      "    update_generic(old_obj, new_obj)\n",
      "  File \"/home/omarelb/projects/thesis/code/venv/lib/python3.7/site-packages/IPython/extensions/autoreload.py\", line 347, in update_generic\n",
      "    update(a, b)\n",
      "  File \"/home/omarelb/projects/thesis/code/venv/lib/python3.7/site-packages/IPython/extensions/autoreload.py\", line 302, in update_class\n",
      "    if update_generic(old_obj, new_obj): continue\n",
      "  File \"/home/omarelb/projects/thesis/code/venv/lib/python3.7/site-packages/IPython/extensions/autoreload.py\", line 347, in update_generic\n",
      "    update(a, b)\n",
      "  File \"/home/omarelb/projects/thesis/code/venv/lib/python3.7/site-packages/IPython/extensions/autoreload.py\", line 266, in update_function\n",
      "    setattr(old, name, getattr(new, name))\n",
      "ValueError: __init__() requires a code object with 0 free vars, not 1\n",
      "]\n"
     ]
    }
   ],
   "source": [
    "agem = AGEM(config)"
   ]
  },
  {
   "cell_type": "code",
   "execution_count": 53,
   "metadata": {},
   "outputs": [
    {
     "ename": "AttributeError",
     "evalue": "'AGEM' object has no attribute 'exp_dir'",
     "output_type": "error",
     "traceback": [
      "\u001b[0;31m---------------------------------------------------------------------------\u001b[0m",
      "\u001b[0;31mAttributeError\u001b[0m                            Traceback (most recent call last)",
      "\u001b[0;32m<ipython-input-53-0719a9da4d86>\u001b[0m in \u001b[0;36m<module>\u001b[0;34m\u001b[0m\n\u001b[0;32m----> 1\u001b[0;31m \u001b[0magem\u001b[0m\u001b[0;34m.\u001b[0m\u001b[0mexp_dir\u001b[0m\u001b[0;34m\u001b[0m\u001b[0;34m\u001b[0m\u001b[0m\n\u001b[0m",
      "\u001b[0;31mAttributeError\u001b[0m: 'AGEM' object has no attribute 'exp_dir'"
     ]
    }
   ],
   "source": [
    "agem.exp_dir"
   ]
  },
  {
   "cell_type": "code",
   "execution_count": 17,
   "metadata": {},
   "outputs": [
    {
     "name": "stdout",
     "output_type": "stream",
     "text": [
      "learner:\n",
      "  inner_lr: 0.003\n",
      "  meta_lr: 3.0e-05\n",
      "  type: oml\n",
      "  model_name: bert\n",
      "seed: 42\n",
      "inference: false\n",
      "version: 0\n",
      "write_prob: 1.0\n",
      "replay_rate: 0.01\n",
      "replay_every: 9600\n",
      "updates: 5\n",
      "clip_grad_norm: 25\n",
      "wandb: false\n",
      "training:\n",
      "  device: cuda\n",
      "  epochs: 1\n",
      "  valid_freq: 100\n",
      "  save_freq: 5000\n",
      "  log_freq: 50\n",
      "  batch_size: 16\n",
      "model:\n",
      "  name: bert\n",
      "\n"
     ]
    }
   ],
   "source": [
    "# initialize(config_path=\"../config/\")\n",
    "config = compose(config_name=\"defaults\", overrides=[\"learner=oml\", \"wandb=false\"])\n",
    "print(OmegaConf.to_yaml(config))"
   ]
  },
  {
   "cell_type": "code",
   "execution_count": 6,
   "metadata": {},
   "outputs": [
    {
     "name": "stderr",
     "output_type": "stream",
     "text": [
      "2021-01-25 16:06:44,466 - root - INFO - Loading data...\n",
      "2021-01-25 16:06:45,815 - root - INFO - Loaded YelpDataset\n",
      "2021-01-25 16:06:46,341 - root - INFO - Loaded AGNewsDataset\n",
      "2021-01-25 16:06:47,151 - root - INFO - Loaded DBPediaDataset\n",
      "2021-01-25 16:06:48,045 - root - INFO - Loaded AmazonDataset\n",
      "2021-01-25 16:06:49,269 - root - INFO - Loaded YahooAnswersDataset\n",
      "2021-01-25 16:06:49,275 - root - INFO - Finished loading all the datasets\n"
     ]
    }
   ],
   "source": [
    "datasets = learner.get_datasets(\"/home/omarelb/projects/thesis/code/data/\", config.data.order)"
   ]
  },
  {
   "cell_type": "code",
   "execution_count": 10,
   "metadata": {},
   "outputs": [
    {
     "name": "stderr",
     "output_type": "stream",
     "text": [
      "2021-01-25 16:07:53,973 - MetaLifeLongLanguage.learner - INFO - --------------------------------------------------\n",
      "2021-01-25 16:07:53,974 - MetaLifeLongLanguage.learner - INFO - TRAINING LOG\n",
      "2021-01-25 16:07:53,975 - MetaLifeLongLanguage.learner - INFO - --------------------------------------------------\n",
      "2021-01-25 16:07:53,977 - MetaLifeLongLanguage.learner - INFO - --------------------------------------------------\n",
      "CONFIG:\n",
      "{'seed': 42, 'inference': False, 'version': 0, 'write_prob': 1.0, 'replay_rate': 0.01, 'replay_every': 9600, 'updates': 5, 'clip_grad_norm': 25, 'wandb': False, 'training': {'device': 'cpu', 'inner_lr': 0.001, 'meta_lr': 1e-05, 'epochs': 1, 'valid_freq': 100, 'save_freq': 5000, 'log_freq': 50, 'batch_size': 2}, 'model': {'name': 'bert'}, 'data': {'order': 1, 'max_length': 448, 'n_classes': 33}, 'learner': {'type': 'anml', 'model_name': 'bert'}}\n",
      "--------------------------------------------------\n",
      "2021-01-25 16:07:53,978 - MetaLifeLongLanguage.learner - INFO - Setting seed: 42\n",
      "2021-01-25 16:07:53,980 - MetaLifeLongLanguage.learner - INFO - Using device: cpu\n",
      "2021-01-25 16:07:54,398 - transformers.configuration_utils - INFO - loading configuration file https://s3.amazonaws.com/models.huggingface.co/bert/bert-base-uncased-config.json from cache at /home/omarelb/.cache/torch/transformers/4dad0251492946e18ac39290fcfe91b89d370fee250efe9521476438fe8ca185.7156163d5fdc189c3016baca0775ffce230789d7fa2a42ef516483e4ca884517\n",
      "2021-01-25 16:07:54,401 - transformers.configuration_utils - INFO - Model config BertConfig {\n",
      "  \"architectures\": [\n",
      "    \"BertForMaskedLM\"\n",
      "  ],\n",
      "  \"attention_probs_dropout_prob\": 0.1,\n",
      "  \"gradient_checkpointing\": false,\n",
      "  \"hidden_act\": \"gelu\",\n",
      "  \"hidden_dropout_prob\": 0.1,\n",
      "  \"hidden_size\": 768,\n",
      "  \"initializer_range\": 0.02,\n",
      "  \"intermediate_size\": 3072,\n",
      "  \"layer_norm_eps\": 1e-12,\n",
      "  \"max_position_embeddings\": 512,\n",
      "  \"model_type\": \"bert\",\n",
      "  \"num_attention_heads\": 12,\n",
      "  \"num_hidden_layers\": 12,\n",
      "  \"pad_token_id\": 0,\n",
      "  \"type_vocab_size\": 2,\n",
      "  \"vocab_size\": 30522\n",
      "}\n",
      "\n",
      "2021-01-25 16:07:54,486 - transformers.modeling_utils - INFO - loading weights file https://cdn.huggingface.co/bert-base-uncased-pytorch_model.bin from cache at /home/omarelb/.cache/torch/transformers/f2ee78bdd635b758cc0a12352586868bef80e47401abe4c4fcc3832421e7338b.36ca03ab34a1a5d5fa7bc3d03d55c4fa650fed07220e2eeebc06ce58d0e9a157\n",
      "2021-01-25 16:07:59,637 - transformers.modeling_utils - INFO - All model checkpoint weights were used when initializing BertModel.\n",
      "\n",
      "2021-01-25 16:07:59,641 - transformers.modeling_utils - INFO - All the weights of BertModel were initialized from the model checkpoint at bert-base-uncased.\n",
      "If your task is similar to the task the model of the ckeckpoint was trained on, you can already use BertModel for predictions without further training.\n",
      "2021-01-25 16:08:00,078 - transformers.tokenization_utils_base - INFO - loading file https://s3.amazonaws.com/models.huggingface.co/bert/bert-base-uncased-vocab.txt from cache at /home/omarelb/.cache/torch/transformers/26bc1ad6c0ac742e9b52263248f6d0f00068293b33709fae12320c0e35ccfbbb.542ce4285a40d23a559526243235df47c5f75c197f04f37d1a0c124c32c9a084\n",
      "2021-01-25 16:08:00,541 - transformers.configuration_utils - INFO - loading configuration file https://s3.amazonaws.com/models.huggingface.co/bert/bert-base-uncased-config.json from cache at /home/omarelb/.cache/torch/transformers/4dad0251492946e18ac39290fcfe91b89d370fee250efe9521476438fe8ca185.7156163d5fdc189c3016baca0775ffce230789d7fa2a42ef516483e4ca884517\n",
      "2021-01-25 16:08:00,543 - transformers.configuration_utils - INFO - Model config BertConfig {\n",
      "  \"architectures\": [\n",
      "    \"BertForMaskedLM\"\n",
      "  ],\n",
      "  \"attention_probs_dropout_prob\": 0.1,\n",
      "  \"gradient_checkpointing\": false,\n",
      "  \"hidden_act\": \"gelu\",\n",
      "  \"hidden_dropout_prob\": 0.1,\n",
      "  \"hidden_size\": 768,\n",
      "  \"initializer_range\": 0.02,\n",
      "  \"intermediate_size\": 3072,\n",
      "  \"layer_norm_eps\": 1e-12,\n",
      "  \"max_position_embeddings\": 512,\n",
      "  \"model_type\": \"bert\",\n",
      "  \"num_attention_heads\": 12,\n",
      "  \"num_hidden_layers\": 12,\n",
      "  \"pad_token_id\": 0,\n",
      "  \"type_vocab_size\": 2,\n",
      "  \"vocab_size\": 30522\n",
      "}\n",
      "\n",
      "2021-01-25 16:08:00,606 - transformers.modeling_utils - INFO - loading weights file https://cdn.huggingface.co/bert-base-uncased-pytorch_model.bin from cache at /home/omarelb/.cache/torch/transformers/f2ee78bdd635b758cc0a12352586868bef80e47401abe4c4fcc3832421e7338b.36ca03ab34a1a5d5fa7bc3d03d55c4fa650fed07220e2eeebc06ce58d0e9a157\n",
      "2021-01-25 16:08:05,897 - transformers.modeling_utils - INFO - All model checkpoint weights were used when initializing BertModel.\n",
      "\n",
      "2021-01-25 16:08:05,901 - transformers.modeling_utils - INFO - All the weights of BertModel were initialized from the model checkpoint at bert-base-uncased.\n",
      "If your task is similar to the task the model of the ckeckpoint was trained on, you can already use BertModel for predictions without further training.\n",
      "2021-01-25 16:08:05,910 - ANML-Log - INFO - Loaded TransformerNeuromodulator as NM\n",
      "2021-01-25 16:08:05,911 - ANML-Log - INFO - Loaded TransformerClsModel as PN\n"
     ]
    }
   ],
   "source": [
    "learner = get_learner(config)"
   ]
  },
  {
   "cell_type": "code",
   "execution_count": null,
   "metadata": {},
   "outputs": [
    {
     "name": "stderr",
     "output_type": "stream",
     "text": [
      "2021-01-25 16:08:19,905 - ANML-Log - INFO - Replay frequency: 801\n",
      "2021-01-25 16:08:19,907 - ANML-Log - INFO - Replay steps: 48\n",
      "2021-01-25 16:12:32,437 - MetaLifeLongLanguage.learner - INFO - Episode 1 support set: Loss = 3.4020, accuracy = 0.1000, precision = 0.0417, recall = 0.0833, F1 score = 0.0556\n",
      "2021-01-25 16:13:33,026 - ANML-Log - INFO - Episode 1 query set: Loss = 3.2236, accuracy = 0.5000, precision = 0.2500, recall = 0.5000, F1 score = 0.3333\n",
      "2021-01-25 16:15:43,313 - MetaLifeLongLanguage.learner - INFO - Episode 2 support set: Loss = 3.5227, accuracy = 0.0000, precision = 0.0000, recall = 0.0000, F1 score = 0.0000\n"
     ]
    }
   ],
   "source": [
    "learner.training(datasets)"
   ]
  },
  {
   "cell_type": "code",
   "execution_count": 8,
   "metadata": {},
   "outputs": [],
   "source": [
    "DATA_PATH = Path(\"../data/\")"
   ]
  },
  {
   "cell_type": "code",
   "execution_count": 1,
   "metadata": {},
   "outputs": [
    {
     "data": {
      "text/plain": [
       "str"
      ]
     },
     "execution_count": 1,
     "metadata": {},
     "output_type": "execute_result"
    }
   ],
   "source": [
    "type(\"x\")"
   ]
  },
  {
   "cell_type": "code",
   "execution_count": 17,
   "metadata": {},
   "outputs": [
    {
     "data": {
      "text/plain": [
       "([<MetaLifeLongLanguage.datasets.text_classification_dataset.DBPediaDataset at 0x14557b140d90>,\n",
       "  <MetaLifeLongLanguage.datasets.text_classification_dataset.YahooAnswersDataset at 0x14557b104f10>,\n",
       "  <MetaLifeLongLanguage.datasets.text_classification_dataset.AGNewsDataset at 0x14562ca9db90>,\n",
       "  <MetaLifeLongLanguage.datasets.text_classification_dataset.AmazonDataset at 0x14557bd7f9d0>,\n",
       "  <MetaLifeLongLanguage.datasets.text_classification_dataset.YelpDataset at 0x14557bd75bd0>],\n",
       " [<MetaLifeLongLanguage.datasets.text_classification_dataset.DBPediaDataset at 0x14557b1405d0>,\n",
       "  <MetaLifeLongLanguage.datasets.text_classification_dataset.YahooAnswersDataset at 0x14557b104c90>,\n",
       "  <MetaLifeLongLanguage.datasets.text_classification_dataset.AGNewsDataset at 0x14562ca9d710>,\n",
       "  <MetaLifeLongLanguage.datasets.text_classification_dataset.AmazonDataset at 0x14557bd7fad0>,\n",
       "  <MetaLifeLongLanguage.datasets.text_classification_dataset.YelpDataset at 0x14557bd754d0>],\n",
       " [<MetaLifeLongLanguage.datasets.text_classification_dataset.DBPediaDataset at 0x14557b1041d0>,\n",
       "  <MetaLifeLongLanguage.datasets.text_classification_dataset.YahooAnswersDataset at 0x14557b1048d0>,\n",
       "  <MetaLifeLongLanguage.datasets.text_classification_dataset.AGNewsDataset at 0x14562ca9dc90>,\n",
       "  <MetaLifeLongLanguage.datasets.text_classification_dataset.AmazonDataset at 0x14557bd75150>,\n",
       "  <MetaLifeLongLanguage.datasets.text_classification_dataset.YelpDataset at 0x14557bd75490>])"
      ]
     },
     "execution_count": 17,
     "metadata": {},
     "output_type": "execute_result"
    }
   ],
   "source": [
    "get_datasets(DATA_PATH, 2)"
   ]
  },
  {
   "cell_type": "code",
   "execution_count": 4,
   "metadata": {},
   "outputs": [],
   "source": [
    "file = DATA_PATH / \"train.csv\""
   ]
  },
  {
   "cell_type": "code",
   "execution_count": 5,
   "metadata": {},
   "outputs": [],
   "source": [
    "from sklearn.model_selection import train_test_split"
   ]
  },
  {
   "cell_type": "code",
   "execution_count": 6,
   "metadata": {},
   "outputs": [],
   "source": [
    "import pandas as pd"
   ]
  },
  {
   "cell_type": "code",
   "execution_count": 13,
   "metadata": {},
   "outputs": [],
   "source": [
    "df = pd.read_csv(file)"
   ]
  },
  {
   "cell_type": "code",
   "execution_count": 7,
   "metadata": {},
   "outputs": [],
   "source": [
    "data = pd.read_csv(file, header=None, sep=',', names=['labels', 'title', 'description'],\n",
    "                    index_col=False)\n",
    "data['text'] = data['title'] + '. ' + data['description']\n",
    "data['labels'] = data['labels'] - 1\n",
    "data.drop(columns=['title', 'description'], inplace=True)\n",
    "data.dropna(inplace=True)"
   ]
  },
  {
   "cell_type": "code",
   "execution_count": 23,
   "metadata": {},
   "outputs": [
    {
     "data": {
      "text/html": [
       "<div>\n",
       "<style scoped>\n",
       "    .dataframe tbody tr th:only-of-type {\n",
       "        vertical-align: middle;\n",
       "    }\n",
       "\n",
       "    .dataframe tbody tr th {\n",
       "        vertical-align: top;\n",
       "    }\n",
       "\n",
       "    .dataframe thead th {\n",
       "        text-align: right;\n",
       "    }\n",
       "</style>\n",
       "<table border=\"1\" class=\"dataframe\">\n",
       "  <thead>\n",
       "    <tr style=\"text-align: right;\">\n",
       "      <th></th>\n",
       "      <th>labels</th>\n",
       "      <th>text</th>\n",
       "    </tr>\n",
       "  </thead>\n",
       "  <tbody>\n",
       "    <tr>\n",
       "      <th>0</th>\n",
       "      <td>2</td>\n",
       "      <td>Wall St. Bears Claw Back Into the Black (Reute...</td>\n",
       "    </tr>\n",
       "    <tr>\n",
       "      <th>1</th>\n",
       "      <td>2</td>\n",
       "      <td>Carlyle Looks Toward Commercial Aerospace (Reu...</td>\n",
       "    </tr>\n",
       "    <tr>\n",
       "      <th>2</th>\n",
       "      <td>2</td>\n",
       "      <td>Oil and Economy Cloud Stocks' Outlook (Reuters...</td>\n",
       "    </tr>\n",
       "    <tr>\n",
       "      <th>3</th>\n",
       "      <td>2</td>\n",
       "      <td>Iraq Halts Oil Exports from Main Southern Pipe...</td>\n",
       "    </tr>\n",
       "    <tr>\n",
       "      <th>4</th>\n",
       "      <td>2</td>\n",
       "      <td>Oil prices soar to all-time record, posing new...</td>\n",
       "    </tr>\n",
       "    <tr>\n",
       "      <th>...</th>\n",
       "      <td>...</td>\n",
       "      <td>...</td>\n",
       "    </tr>\n",
       "    <tr>\n",
       "      <th>119995</th>\n",
       "      <td>0</td>\n",
       "      <td>Pakistan's Musharraf Says Won't Quit as Army C...</td>\n",
       "    </tr>\n",
       "    <tr>\n",
       "      <th>119996</th>\n",
       "      <td>1</td>\n",
       "      <td>Renteria signing a top-shelf deal. Red Sox gen...</td>\n",
       "    </tr>\n",
       "    <tr>\n",
       "      <th>119997</th>\n",
       "      <td>1</td>\n",
       "      <td>Saban not going to Dolphins yet. The Miami Dol...</td>\n",
       "    </tr>\n",
       "    <tr>\n",
       "      <th>119998</th>\n",
       "      <td>1</td>\n",
       "      <td>Today's NFL games. PITTSBURGH at NY GIANTS Tim...</td>\n",
       "    </tr>\n",
       "    <tr>\n",
       "      <th>119999</th>\n",
       "      <td>1</td>\n",
       "      <td>Nets get Carter from Raptors. INDIANAPOLIS -- ...</td>\n",
       "    </tr>\n",
       "  </tbody>\n",
       "</table>\n",
       "<p>120000 rows × 2 columns</p>\n",
       "</div>"
      ],
      "text/plain": [
       "        labels                                               text\n",
       "0            2  Wall St. Bears Claw Back Into the Black (Reute...\n",
       "1            2  Carlyle Looks Toward Commercial Aerospace (Reu...\n",
       "2            2  Oil and Economy Cloud Stocks' Outlook (Reuters...\n",
       "3            2  Iraq Halts Oil Exports from Main Southern Pipe...\n",
       "4            2  Oil prices soar to all-time record, posing new...\n",
       "...        ...                                                ...\n",
       "119995       0  Pakistan's Musharraf Says Won't Quit as Army C...\n",
       "119996       1  Renteria signing a top-shelf deal. Red Sox gen...\n",
       "119997       1  Saban not going to Dolphins yet. The Miami Dol...\n",
       "119998       1  Today's NFL games. PITTSBURGH at NY GIANTS Tim...\n",
       "119999       1  Nets get Carter from Raptors. INDIANAPOLIS -- ...\n",
       "\n",
       "[120000 rows x 2 columns]"
      ]
     },
     "execution_count": 23,
     "metadata": {},
     "output_type": "execute_result"
    }
   ],
   "source": [
    "data"
   ]
  },
  {
   "cell_type": "code",
   "execution_count": 8,
   "metadata": {},
   "outputs": [],
   "source": [
    "MAX_VAL_SIZE = 5000"
   ]
  },
  {
   "cell_type": "code",
   "execution_count": 9,
   "metadata": {},
   "outputs": [],
   "source": [
    "MAX_TRAIN_SIZE = 115000"
   ]
  },
  {
   "cell_type": "code",
   "execution_count": 10,
   "metadata": {},
   "outputs": [],
   "source": [
    "MAX_TEST_SIZE = 7600"
   ]
  },
  {
   "cell_type": "code",
   "execution_count": 11,
   "metadata": {},
   "outputs": [],
   "source": [
    "train, val = train_test_split(data, train_size=MAX_TRAIN_SIZE, test_size=MAX_VAL_SIZE, random_state=42)"
   ]
  },
  {
   "cell_type": "code",
   "execution_count": 34,
   "metadata": {},
   "outputs": [
    {
     "data": {
      "text/html": [
       "<div>\n",
       "<style scoped>\n",
       "    .dataframe tbody tr th:only-of-type {\n",
       "        vertical-align: middle;\n",
       "    }\n",
       "\n",
       "    .dataframe tbody tr th {\n",
       "        vertical-align: top;\n",
       "    }\n",
       "\n",
       "    .dataframe thead th {\n",
       "        text-align: right;\n",
       "    }\n",
       "</style>\n",
       "<table border=\"1\" class=\"dataframe\">\n",
       "  <thead>\n",
       "    <tr style=\"text-align: right;\">\n",
       "      <th></th>\n",
       "      <th>labels</th>\n",
       "      <th>text</th>\n",
       "    </tr>\n",
       "  </thead>\n",
       "  <tbody>\n",
       "    <tr>\n",
       "      <th>7168</th>\n",
       "      <td>3</td>\n",
       "      <td>Flying the Sun to Safety. When the Genesis cap...</td>\n",
       "    </tr>\n",
       "    <tr>\n",
       "      <th>29618</th>\n",
       "      <td>2</td>\n",
       "      <td>Stocks Seen Flat as Nortel and Oil Weigh.  NEW...</td>\n",
       "    </tr>\n",
       "    <tr>\n",
       "      <th>101425</th>\n",
       "      <td>1</td>\n",
       "      <td>Inter Milan seeks redemption win against Juven...</td>\n",
       "    </tr>\n",
       "    <tr>\n",
       "      <th>20441</th>\n",
       "      <td>2</td>\n",
       "      <td>Saudi Arabia cuts oil prices. Oil prices eased...</td>\n",
       "    </tr>\n",
       "    <tr>\n",
       "      <th>2662</th>\n",
       "      <td>0</td>\n",
       "      <td>Google Cuts Its IPO Price Range. SAN JOSE, Cal...</td>\n",
       "    </tr>\n",
       "    <tr>\n",
       "      <th>20371</th>\n",
       "      <td>2</td>\n",
       "      <td>FOCUS: Santander Says HBOS Counterbid To Face ...</td>\n",
       "    </tr>\n",
       "    <tr>\n",
       "      <th>108151</th>\n",
       "      <td>3</td>\n",
       "      <td>HP Revises Cluster Plans. HP (Quote, Chart) is...</td>\n",
       "    </tr>\n",
       "    <tr>\n",
       "      <th>15315</th>\n",
       "      <td>3</td>\n",
       "      <td>Manugistics Fires Its President. Manugistics G...</td>\n",
       "    </tr>\n",
       "    <tr>\n",
       "      <th>23538</th>\n",
       "      <td>0</td>\n",
       "      <td>US genocide charge is Bush election ploy - Sud...</td>\n",
       "    </tr>\n",
       "    <tr>\n",
       "      <th>113198</th>\n",
       "      <td>3</td>\n",
       "      <td>Netflix CEO Rates Blockbuster, Amazon Threats ...</td>\n",
       "    </tr>\n",
       "  </tbody>\n",
       "</table>\n",
       "</div>"
      ],
      "text/plain": [
       "        labels                                               text\n",
       "7168         3  Flying the Sun to Safety. When the Genesis cap...\n",
       "29618        2  Stocks Seen Flat as Nortel and Oil Weigh.  NEW...\n",
       "101425       1  Inter Milan seeks redemption win against Juven...\n",
       "20441        2  Saudi Arabia cuts oil prices. Oil prices eased...\n",
       "2662         0  Google Cuts Its IPO Price Range. SAN JOSE, Cal...\n",
       "20371        2  FOCUS: Santander Says HBOS Counterbid To Face ...\n",
       "108151       3  HP Revises Cluster Plans. HP (Quote, Chart) is...\n",
       "15315        3  Manugistics Fires Its President. Manugistics G...\n",
       "23538        0  US genocide charge is Bush election ploy - Sud...\n",
       "113198       3  Netflix CEO Rates Blockbuster, Amazon Threats ..."
      ]
     },
     "execution_count": 34,
     "metadata": {},
     "output_type": "execute_result"
    }
   ],
   "source": [
    "train"
   ]
  },
  {
   "cell_type": "code",
   "execution_count": 13,
   "metadata": {},
   "outputs": [],
   "source": [
    "p = Path(os.getcwd()).parent / \"data\""
   ]
  },
  {
   "cell_type": "code",
   "execution_count": 41,
   "metadata": {},
   "outputs": [],
   "source": [
    "train = AGNewsDataset(p, \"train\", reduce=True)\n",
    "val = AGNewsDataset(p, \"val\", reduce=True)\n",
    "test = AGNewsDataset(p, \"test\", reduce=True)"
   ]
  },
  {
   "cell_type": "code",
   "execution_count": 27,
   "metadata": {},
   "outputs": [
    {
     "data": {
      "text/plain": [
       "('williams contacts dolphins but says he #39;s headed for india. retired running back ricky williams says he contacted the miami dolphins this week at the request of his agent but has no plans to rejoin the team anytime soon.',\n",
       " 1)"
      ]
     },
     "execution_count": 27,
     "metadata": {},
     "output_type": "execute_result"
    }
   ],
   "source": [
    "train[0]"
   ]
  },
  {
   "cell_type": "code",
   "execution_count": 31,
   "metadata": {},
   "outputs": [],
   "source": [
    "from MetaLifeLongLanguage.datasets.utils import get_dataset"
   ]
  },
  {
   "cell_type": "code",
   "execution_count": 42,
   "metadata": {},
   "outputs": [
    {
     "data": {
      "text/plain": [
       "[(<MetaLifeLongLanguage.datasets.text_classification_dataset.AGNewsDataset at 0x15193c0a6d10>,\n",
       "  <MetaLifeLongLanguage.datasets.text_classification_dataset.AGNewsDataset at 0x15193bc2c6d0>,\n",
       "  <MetaLifeLongLanguage.datasets.text_classification_dataset.AGNewsDataset at 0x15193c4a7e10>),\n",
       " (<MetaLifeLongLanguage.datasets.text_classification_dataset.AmazonDataset at 0x15193c4a77d0>,\n",
       "  <MetaLifeLongLanguage.datasets.text_classification_dataset.AmazonDataset at 0x15193c4a7e90>,\n",
       "  <MetaLifeLongLanguage.datasets.text_classification_dataset.AmazonDataset at 0x151937e07fd0>),\n",
       " (<MetaLifeLongLanguage.datasets.text_classification_dataset.YelpDataset at 0x151937e07c10>,\n",
       "  <MetaLifeLongLanguage.datasets.text_classification_dataset.YelpDataset at 0x151937e05150>,\n",
       "  <MetaLifeLongLanguage.datasets.text_classification_dataset.YelpDataset at 0x151937e051d0>),\n",
       " (<MetaLifeLongLanguage.datasets.text_classification_dataset.DBPediaDataset at 0x15192ba4aed0>,\n",
       "  <MetaLifeLongLanguage.datasets.text_classification_dataset.DBPediaDataset at 0x15192ba4afd0>,\n",
       "  <MetaLifeLongLanguage.datasets.text_classification_dataset.DBPediaDataset at 0x1519290e6f10>),\n",
       " (<MetaLifeLongLanguage.datasets.text_classification_dataset.YahooAnswersDataset at 0x1519290e6e90>,\n",
       "  <MetaLifeLongLanguage.datasets.text_classification_dataset.YahooAnswersDataset at 0x1519290e6e10>,\n",
       "  <MetaLifeLongLanguage.datasets.text_classification_dataset.YahooAnswersDataset at 0x15190c858b90>)]"
      ]
     },
     "execution_count": 42,
     "metadata": {},
     "output_type": "execute_result"
    }
   ],
   "source": [
    "[get_dataset(p, i) for i in range(5)]"
   ]
  },
  {
   "cell_type": "code",
   "execution_count": 44,
   "metadata": {},
   "outputs": [
    {
     "data": {
      "text/plain": [
       "[(<MetaLifeLongLanguage.datasets.text_classification_dataset.AGNewsDataset at 0x15193c0a6d10>,\n",
       "  <MetaLifeLongLanguage.datasets.text_classification_dataset.AGNewsDataset at 0x15193bc2c6d0>,\n",
       "  <MetaLifeLongLanguage.datasets.text_classification_dataset.AGNewsDataset at 0x15193c4a7e10>),\n",
       " (<MetaLifeLongLanguage.datasets.text_classification_dataset.AmazonDataset at 0x15193c4a77d0>,\n",
       "  <MetaLifeLongLanguage.datasets.text_classification_dataset.AmazonDataset at 0x15193c4a7e90>,\n",
       "  <MetaLifeLongLanguage.datasets.text_classification_dataset.AmazonDataset at 0x151937e07fd0>),\n",
       " (<MetaLifeLongLanguage.datasets.text_classification_dataset.YelpDataset at 0x151937e07c10>,\n",
       "  <MetaLifeLongLanguage.datasets.text_classification_dataset.YelpDataset at 0x151937e05150>,\n",
       "  <MetaLifeLongLanguage.datasets.text_classification_dataset.YelpDataset at 0x151937e051d0>),\n",
       " (<MetaLifeLongLanguage.datasets.text_classification_dataset.DBPediaDataset at 0x15192ba4aed0>,\n",
       "  <MetaLifeLongLanguage.datasets.text_classification_dataset.DBPediaDataset at 0x15192ba4afd0>,\n",
       "  <MetaLifeLongLanguage.datasets.text_classification_dataset.DBPediaDataset at 0x1519290e6f10>),\n",
       " (<MetaLifeLongLanguage.datasets.text_classification_dataset.YahooAnswersDataset at 0x1519290e6e90>,\n",
       "  <MetaLifeLongLanguage.datasets.text_classification_dataset.YahooAnswersDataset at 0x1519290e6e10>,\n",
       "  <MetaLifeLongLanguage.datasets.text_classification_dataset.YahooAnswersDataset at 0x15190c858b90>)]"
      ]
     },
     "execution_count": 44,
     "metadata": {},
     "output_type": "execute_result"
    }
   ],
   "source": [
    "datasets"
   ]
  },
  {
   "cell_type": "code",
   "execution_count": 39,
   "metadata": {},
   "outputs": [
    {
     "data": {
      "text/plain": [
       "'williams contacts dolphins but says he #39;s headed for india. retired running back ricky williams says he contacted the miami dolphins this week at the request of his agent but has no plans to rejoin the team anytime soon.'"
      ]
     },
     "execution_count": 39,
     "metadata": {},
     "output_type": "execute_result"
    }
   ],
   "source": [
    "train[0][0]"
   ]
  }
 ],
 "metadata": {
  "kernelspec": {
   "display_name": "Python 3",
   "language": "python",
   "name": "python3"
  },
  "language_info": {
   "codemirror_mode": {
    "name": "ipython",
    "version": 3
   },
   "file_extension": ".py",
   "mimetype": "text/x-python",
   "name": "python",
   "nbconvert_exporter": "python",
   "pygments_lexer": "ipython3",
   "version": "3.7.6"
  }
 },
 "nbformat": 4,
 "nbformat_minor": 4
}
