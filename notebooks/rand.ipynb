{
 "cells": [
  {
   "cell_type": "code",
   "execution_count": 2,
   "metadata": {},
   "outputs": [],
   "source": [
    "import sys\n",
    "sys.path.append(\"..\")\n",
    "import os\n",
    "from pathlib import Path\n",
    "from MetaLifeLongLanguage.datasets.text_classification_dataset import AGNewsDataset\n",
    "\n",
    "%load_ext autoreload\n",
    "%autoreload 2"
   ]
  },
  {
   "cell_type": "code",
   "execution_count": 3,
   "metadata": {},
   "outputs": [],
   "source": [
    "DATA_PATH = Path(\"../data/ag_news_csv/\")"
   ]
  },
  {
   "cell_type": "code",
   "execution_count": 4,
   "metadata": {},
   "outputs": [],
   "source": [
    "file = DATA_PATH / \"train.csv\""
   ]
  },
  {
   "cell_type": "code",
   "execution_count": 5,
   "metadata": {},
   "outputs": [],
   "source": [
    "from sklearn.model_selection import train_test_split"
   ]
  },
  {
   "cell_type": "code",
   "execution_count": 6,
   "metadata": {},
   "outputs": [],
   "source": [
    "import pandas as pd"
   ]
  },
  {
   "cell_type": "code",
   "execution_count": 13,
   "metadata": {},
   "outputs": [],
   "source": [
    "df = pd.read_csv(file)"
   ]
  },
  {
   "cell_type": "code",
   "execution_count": 7,
   "metadata": {},
   "outputs": [],
   "source": [
    "data = pd.read_csv(file, header=None, sep=',', names=['labels', 'title', 'description'],\n",
    "                    index_col=False)\n",
    "data['text'] = data['title'] + '. ' + data['description']\n",
    "data['labels'] = data['labels'] - 1\n",
    "data.drop(columns=['title', 'description'], inplace=True)\n",
    "data.dropna(inplace=True)"
   ]
  },
  {
   "cell_type": "code",
   "execution_count": 23,
   "metadata": {},
   "outputs": [
    {
     "data": {
      "text/html": [
       "<div>\n",
       "<style scoped>\n",
       "    .dataframe tbody tr th:only-of-type {\n",
       "        vertical-align: middle;\n",
       "    }\n",
       "\n",
       "    .dataframe tbody tr th {\n",
       "        vertical-align: top;\n",
       "    }\n",
       "\n",
       "    .dataframe thead th {\n",
       "        text-align: right;\n",
       "    }\n",
       "</style>\n",
       "<table border=\"1\" class=\"dataframe\">\n",
       "  <thead>\n",
       "    <tr style=\"text-align: right;\">\n",
       "      <th></th>\n",
       "      <th>labels</th>\n",
       "      <th>text</th>\n",
       "    </tr>\n",
       "  </thead>\n",
       "  <tbody>\n",
       "    <tr>\n",
       "      <th>0</th>\n",
       "      <td>2</td>\n",
       "      <td>Wall St. Bears Claw Back Into the Black (Reute...</td>\n",
       "    </tr>\n",
       "    <tr>\n",
       "      <th>1</th>\n",
       "      <td>2</td>\n",
       "      <td>Carlyle Looks Toward Commercial Aerospace (Reu...</td>\n",
       "    </tr>\n",
       "    <tr>\n",
       "      <th>2</th>\n",
       "      <td>2</td>\n",
       "      <td>Oil and Economy Cloud Stocks' Outlook (Reuters...</td>\n",
       "    </tr>\n",
       "    <tr>\n",
       "      <th>3</th>\n",
       "      <td>2</td>\n",
       "      <td>Iraq Halts Oil Exports from Main Southern Pipe...</td>\n",
       "    </tr>\n",
       "    <tr>\n",
       "      <th>4</th>\n",
       "      <td>2</td>\n",
       "      <td>Oil prices soar to all-time record, posing new...</td>\n",
       "    </tr>\n",
       "    <tr>\n",
       "      <th>...</th>\n",
       "      <td>...</td>\n",
       "      <td>...</td>\n",
       "    </tr>\n",
       "    <tr>\n",
       "      <th>119995</th>\n",
       "      <td>0</td>\n",
       "      <td>Pakistan's Musharraf Says Won't Quit as Army C...</td>\n",
       "    </tr>\n",
       "    <tr>\n",
       "      <th>119996</th>\n",
       "      <td>1</td>\n",
       "      <td>Renteria signing a top-shelf deal. Red Sox gen...</td>\n",
       "    </tr>\n",
       "    <tr>\n",
       "      <th>119997</th>\n",
       "      <td>1</td>\n",
       "      <td>Saban not going to Dolphins yet. The Miami Dol...</td>\n",
       "    </tr>\n",
       "    <tr>\n",
       "      <th>119998</th>\n",
       "      <td>1</td>\n",
       "      <td>Today's NFL games. PITTSBURGH at NY GIANTS Tim...</td>\n",
       "    </tr>\n",
       "    <tr>\n",
       "      <th>119999</th>\n",
       "      <td>1</td>\n",
       "      <td>Nets get Carter from Raptors. INDIANAPOLIS -- ...</td>\n",
       "    </tr>\n",
       "  </tbody>\n",
       "</table>\n",
       "<p>120000 rows × 2 columns</p>\n",
       "</div>"
      ],
      "text/plain": [
       "        labels                                               text\n",
       "0            2  Wall St. Bears Claw Back Into the Black (Reute...\n",
       "1            2  Carlyle Looks Toward Commercial Aerospace (Reu...\n",
       "2            2  Oil and Economy Cloud Stocks' Outlook (Reuters...\n",
       "3            2  Iraq Halts Oil Exports from Main Southern Pipe...\n",
       "4            2  Oil prices soar to all-time record, posing new...\n",
       "...        ...                                                ...\n",
       "119995       0  Pakistan's Musharraf Says Won't Quit as Army C...\n",
       "119996       1  Renteria signing a top-shelf deal. Red Sox gen...\n",
       "119997       1  Saban not going to Dolphins yet. The Miami Dol...\n",
       "119998       1  Today's NFL games. PITTSBURGH at NY GIANTS Tim...\n",
       "119999       1  Nets get Carter from Raptors. INDIANAPOLIS -- ...\n",
       "\n",
       "[120000 rows x 2 columns]"
      ]
     },
     "execution_count": 23,
     "metadata": {},
     "output_type": "execute_result"
    }
   ],
   "source": [
    "data"
   ]
  },
  {
   "cell_type": "code",
   "execution_count": 8,
   "metadata": {},
   "outputs": [],
   "source": [
    "MAX_VAL_SIZE = 5000"
   ]
  },
  {
   "cell_type": "code",
   "execution_count": 9,
   "metadata": {},
   "outputs": [],
   "source": [
    "MAX_TRAIN_SIZE = 115000"
   ]
  },
  {
   "cell_type": "code",
   "execution_count": 10,
   "metadata": {},
   "outputs": [],
   "source": [
    "MAX_TEST_SIZE = 7600"
   ]
  },
  {
   "cell_type": "code",
   "execution_count": 11,
   "metadata": {},
   "outputs": [],
   "source": [
    "train, val = train_test_split(data, train_size=MAX_TRAIN_SIZE, test_size=MAX_VAL_SIZE, random_state=42)"
   ]
  },
  {
   "cell_type": "code",
   "execution_count": 34,
   "metadata": {},
   "outputs": [
    {
     "data": {
      "text/html": [
       "<div>\n",
       "<style scoped>\n",
       "    .dataframe tbody tr th:only-of-type {\n",
       "        vertical-align: middle;\n",
       "    }\n",
       "\n",
       "    .dataframe tbody tr th {\n",
       "        vertical-align: top;\n",
       "    }\n",
       "\n",
       "    .dataframe thead th {\n",
       "        text-align: right;\n",
       "    }\n",
       "</style>\n",
       "<table border=\"1\" class=\"dataframe\">\n",
       "  <thead>\n",
       "    <tr style=\"text-align: right;\">\n",
       "      <th></th>\n",
       "      <th>labels</th>\n",
       "      <th>text</th>\n",
       "    </tr>\n",
       "  </thead>\n",
       "  <tbody>\n",
       "    <tr>\n",
       "      <th>7168</th>\n",
       "      <td>3</td>\n",
       "      <td>Flying the Sun to Safety. When the Genesis cap...</td>\n",
       "    </tr>\n",
       "    <tr>\n",
       "      <th>29618</th>\n",
       "      <td>2</td>\n",
       "      <td>Stocks Seen Flat as Nortel and Oil Weigh.  NEW...</td>\n",
       "    </tr>\n",
       "    <tr>\n",
       "      <th>101425</th>\n",
       "      <td>1</td>\n",
       "      <td>Inter Milan seeks redemption win against Juven...</td>\n",
       "    </tr>\n",
       "    <tr>\n",
       "      <th>20441</th>\n",
       "      <td>2</td>\n",
       "      <td>Saudi Arabia cuts oil prices. Oil prices eased...</td>\n",
       "    </tr>\n",
       "    <tr>\n",
       "      <th>2662</th>\n",
       "      <td>0</td>\n",
       "      <td>Google Cuts Its IPO Price Range. SAN JOSE, Cal...</td>\n",
       "    </tr>\n",
       "    <tr>\n",
       "      <th>20371</th>\n",
       "      <td>2</td>\n",
       "      <td>FOCUS: Santander Says HBOS Counterbid To Face ...</td>\n",
       "    </tr>\n",
       "    <tr>\n",
       "      <th>108151</th>\n",
       "      <td>3</td>\n",
       "      <td>HP Revises Cluster Plans. HP (Quote, Chart) is...</td>\n",
       "    </tr>\n",
       "    <tr>\n",
       "      <th>15315</th>\n",
       "      <td>3</td>\n",
       "      <td>Manugistics Fires Its President. Manugistics G...</td>\n",
       "    </tr>\n",
       "    <tr>\n",
       "      <th>23538</th>\n",
       "      <td>0</td>\n",
       "      <td>US genocide charge is Bush election ploy - Sud...</td>\n",
       "    </tr>\n",
       "    <tr>\n",
       "      <th>113198</th>\n",
       "      <td>3</td>\n",
       "      <td>Netflix CEO Rates Blockbuster, Amazon Threats ...</td>\n",
       "    </tr>\n",
       "  </tbody>\n",
       "</table>\n",
       "</div>"
      ],
      "text/plain": [
       "        labels                                               text\n",
       "7168         3  Flying the Sun to Safety. When the Genesis cap...\n",
       "29618        2  Stocks Seen Flat as Nortel and Oil Weigh.  NEW...\n",
       "101425       1  Inter Milan seeks redemption win against Juven...\n",
       "20441        2  Saudi Arabia cuts oil prices. Oil prices eased...\n",
       "2662         0  Google Cuts Its IPO Price Range. SAN JOSE, Cal...\n",
       "20371        2  FOCUS: Santander Says HBOS Counterbid To Face ...\n",
       "108151       3  HP Revises Cluster Plans. HP (Quote, Chart) is...\n",
       "15315        3  Manugistics Fires Its President. Manugistics G...\n",
       "23538        0  US genocide charge is Bush election ploy - Sud...\n",
       "113198       3  Netflix CEO Rates Blockbuster, Amazon Threats ..."
      ]
     },
     "execution_count": 34,
     "metadata": {},
     "output_type": "execute_result"
    }
   ],
   "source": [
    "train"
   ]
  },
  {
   "cell_type": "code",
   "execution_count": 13,
   "metadata": {},
   "outputs": [],
   "source": [
    "p = Path(os.getcwd()).parent / \"data\""
   ]
  },
  {
   "cell_type": "code",
   "execution_count": 41,
   "metadata": {},
   "outputs": [],
   "source": [
    "train = AGNewsDataset(p, \"train\", reduce=True)\n",
    "val = AGNewsDataset(p, \"val\", reduce=True)\n",
    "test = AGNewsDataset(p, \"test\", reduce=True)"
   ]
  },
  {
   "cell_type": "code",
   "execution_count": 27,
   "metadata": {},
   "outputs": [
    {
     "data": {
      "text/plain": [
       "('williams contacts dolphins but says he #39;s headed for india. retired running back ricky williams says he contacted the miami dolphins this week at the request of his agent but has no plans to rejoin the team anytime soon.',\n",
       " 1)"
      ]
     },
     "execution_count": 27,
     "metadata": {},
     "output_type": "execute_result"
    }
   ],
   "source": [
    "train[0]"
   ]
  },
  {
   "cell_type": "code",
   "execution_count": 31,
   "metadata": {},
   "outputs": [],
   "source": [
    "from MetaLifeLongLanguage.datasets.utils import get_dataset"
   ]
  },
  {
   "cell_type": "code",
   "execution_count": 42,
   "metadata": {},
   "outputs": [
    {
     "data": {
      "text/plain": [
       "[(<MetaLifeLongLanguage.datasets.text_classification_dataset.AGNewsDataset at 0x15193c0a6d10>,\n",
       "  <MetaLifeLongLanguage.datasets.text_classification_dataset.AGNewsDataset at 0x15193bc2c6d0>,\n",
       "  <MetaLifeLongLanguage.datasets.text_classification_dataset.AGNewsDataset at 0x15193c4a7e10>),\n",
       " (<MetaLifeLongLanguage.datasets.text_classification_dataset.AmazonDataset at 0x15193c4a77d0>,\n",
       "  <MetaLifeLongLanguage.datasets.text_classification_dataset.AmazonDataset at 0x15193c4a7e90>,\n",
       "  <MetaLifeLongLanguage.datasets.text_classification_dataset.AmazonDataset at 0x151937e07fd0>),\n",
       " (<MetaLifeLongLanguage.datasets.text_classification_dataset.YelpDataset at 0x151937e07c10>,\n",
       "  <MetaLifeLongLanguage.datasets.text_classification_dataset.YelpDataset at 0x151937e05150>,\n",
       "  <MetaLifeLongLanguage.datasets.text_classification_dataset.YelpDataset at 0x151937e051d0>),\n",
       " (<MetaLifeLongLanguage.datasets.text_classification_dataset.DBPediaDataset at 0x15192ba4aed0>,\n",
       "  <MetaLifeLongLanguage.datasets.text_classification_dataset.DBPediaDataset at 0x15192ba4afd0>,\n",
       "  <MetaLifeLongLanguage.datasets.text_classification_dataset.DBPediaDataset at 0x1519290e6f10>),\n",
       " (<MetaLifeLongLanguage.datasets.text_classification_dataset.YahooAnswersDataset at 0x1519290e6e90>,\n",
       "  <MetaLifeLongLanguage.datasets.text_classification_dataset.YahooAnswersDataset at 0x1519290e6e10>,\n",
       "  <MetaLifeLongLanguage.datasets.text_classification_dataset.YahooAnswersDataset at 0x15190c858b90>)]"
      ]
     },
     "execution_count": 42,
     "metadata": {},
     "output_type": "execute_result"
    }
   ],
   "source": [
    "[get_dataset(p, i) for i in range(5)]"
   ]
  },
  {
   "cell_type": "code",
   "execution_count": 44,
   "metadata": {},
   "outputs": [
    {
     "data": {
      "text/plain": [
       "[(<MetaLifeLongLanguage.datasets.text_classification_dataset.AGNewsDataset at 0x15193c0a6d10>,\n",
       "  <MetaLifeLongLanguage.datasets.text_classification_dataset.AGNewsDataset at 0x15193bc2c6d0>,\n",
       "  <MetaLifeLongLanguage.datasets.text_classification_dataset.AGNewsDataset at 0x15193c4a7e10>),\n",
       " (<MetaLifeLongLanguage.datasets.text_classification_dataset.AmazonDataset at 0x15193c4a77d0>,\n",
       "  <MetaLifeLongLanguage.datasets.text_classification_dataset.AmazonDataset at 0x15193c4a7e90>,\n",
       "  <MetaLifeLongLanguage.datasets.text_classification_dataset.AmazonDataset at 0x151937e07fd0>),\n",
       " (<MetaLifeLongLanguage.datasets.text_classification_dataset.YelpDataset at 0x151937e07c10>,\n",
       "  <MetaLifeLongLanguage.datasets.text_classification_dataset.YelpDataset at 0x151937e05150>,\n",
       "  <MetaLifeLongLanguage.datasets.text_classification_dataset.YelpDataset at 0x151937e051d0>),\n",
       " (<MetaLifeLongLanguage.datasets.text_classification_dataset.DBPediaDataset at 0x15192ba4aed0>,\n",
       "  <MetaLifeLongLanguage.datasets.text_classification_dataset.DBPediaDataset at 0x15192ba4afd0>,\n",
       "  <MetaLifeLongLanguage.datasets.text_classification_dataset.DBPediaDataset at 0x1519290e6f10>),\n",
       " (<MetaLifeLongLanguage.datasets.text_classification_dataset.YahooAnswersDataset at 0x1519290e6e90>,\n",
       "  <MetaLifeLongLanguage.datasets.text_classification_dataset.YahooAnswersDataset at 0x1519290e6e10>,\n",
       "  <MetaLifeLongLanguage.datasets.text_classification_dataset.YahooAnswersDataset at 0x15190c858b90>)]"
      ]
     },
     "execution_count": 44,
     "metadata": {},
     "output_type": "execute_result"
    }
   ],
   "source": [
    "datasets"
   ]
  },
  {
   "cell_type": "code",
   "execution_count": 39,
   "metadata": {},
   "outputs": [
    {
     "data": {
      "text/plain": [
       "'williams contacts dolphins but says he #39;s headed for india. retired running back ricky williams says he contacted the miami dolphins this week at the request of his agent but has no plans to rejoin the team anytime soon.'"
      ]
     },
     "execution_count": 39,
     "metadata": {},
     "output_type": "execute_result"
    }
   ],
   "source": [
    "train[0][0]"
   ]
  }
 ],
 "metadata": {
  "kernelspec": {
   "display_name": "Python 3",
   "language": "python",
   "name": "python3"
  },
  "language_info": {
   "codemirror_mode": {
    "name": "ipython",
    "version": 3
   },
   "file_extension": ".py",
   "mimetype": "text/x-python",
   "name": "python",
   "nbconvert_exporter": "python",
   "pygments_lexer": "ipython3",
   "version": "3.7.6"
  }
 },
 "nbformat": 4,
 "nbformat_minor": 4
}
